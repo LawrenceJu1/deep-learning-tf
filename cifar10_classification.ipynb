{
 "metadata": {
  "language_info": {
   "codemirror_mode": {
    "name": "ipython",
    "version": 3
   },
   "file_extension": ".py",
   "mimetype": "text/x-python",
   "name": "python",
   "nbconvert_exporter": "python",
   "pygments_lexer": "ipython3",
   "version": "3.7.9-final"
  },
  "orig_nbformat": 2,
  "kernelspec": {
   "name": "python3",
   "display_name": "Python 3",
   "language": "python"
  }
 },
 "nbformat": 4,
 "nbformat_minor": 2,
 "cells": [
  {
   "source": [
    "Cifar10 image classification"
   ],
   "cell_type": "markdown",
   "metadata": {}
  },
  {
   "cell_type": "code",
   "execution_count": null,
   "metadata": {},
   "outputs": [],
   "source": [
    "import keras\n",
    "import numpy as np\n",
    "from matplotlib import pyplot\n",
    "import tensorflow_datasets as tfds"
   ]
  },
  {
   "cell_type": "code",
   "execution_count": null,
   "metadata": {
    "tags": []
   },
   "outputs": [],
   "source": [
    "#load cifar10 dataset\n",
    "train_X, train_y = tfds.as_numpy(tfds.load('cifar10', split='train', batch_size=-1, shuffle_files=True, as_supervised = True))\n",
    "test_X, test_y = tfds.as_numpy(tfds.load('cifar10', split='test', batch_size=-1, shuffle_files=True, as_supervised = True))"
   ]
  },
  {
   "cell_type": "code",
   "execution_count": null,
   "metadata": {},
   "outputs": [],
   "source": [
    "print(\"The shape of the training examples is \" + str(train_X.shape))\n",
    "print(\"The shape of the training labels is \" + str(train_y.shape))\n",
    "print(\"The shape of the test examples is \" + str(test_X.shape))\n",
    "print(\"The shape of the test labels is \" + str(test_y.shape))"
   ]
  },
  {
   "cell_type": "code",
   "execution_count": null,
   "metadata": {},
   "outputs": [],
   "source": [
    "#one hot encoding\n",
    "train_y = keras.utils.to_categorical(train_y, num_classes=10)\n",
    "test_y = keras.utils.to_categorical(test_y, num_classes=10)"
   ]
  },
  {
   "cell_type": "code",
   "execution_count": null,
   "metadata": {},
   "outputs": [],
   "source": [
    "#displaying training images\n",
    "for i in range(9):\n",
    "    pyplot.subplot(330 + 1 + i)\n",
    "    pyplot.imshow(train_X[i])\n",
    "pyplot.show()"
   ]
  },
  {
   "cell_type": "code",
   "execution_count": null,
   "metadata": {},
   "outputs": [],
   "source": [
    "#preprocess training and test sets\n",
    "train_X = train_X.astype('float32')\n",
    "test_X = test_X.astype('float32')\n",
    "train_X = train_X/255.0\n",
    "test_X = test_X/255.0"
   ]
  },
  {
   "cell_type": "code",
   "execution_count": null,
   "metadata": {},
   "outputs": [],
   "source": [
    "#creating the model\n",
    "def model(input_shape):\n",
    "    X_input = keras.Input(input_shape)\n",
    "    X = keras.layers.Conv2D(32, (3,3), padding='same', activation='relu')(X_input)\n",
    "    X = keras.layers.Conv2D(32, (3,3), padding='same', activation='relu')(X)\n",
    "    X = keras.layers.Conv2D(32, (3,3), padding='same', activation='relu')(X)\n",
    "    X = keras.layers.BatchNormalization(axis=3)(X)\n",
    "    X = keras.layers.MaxPooling2D((2,2))(X)\n",
    "    X = keras.layers.Conv2D(64, (3,3), padding='same', activation='relu')(X)\n",
    "    X = keras.layers.Conv2D(64, (3,3), padding='same', activation='relu')(X)\n",
    "    X = keras.layers.Conv2D(64, (3,3), padding='same', activation='relu')(X)\n",
    "    X = keras.layers.BatchNormalization(axis=3)(X)\n",
    "    X = keras.layers.MaxPooling2D((2,2))(X)\n",
    "    X = keras.layers.Flatten()(X)\n",
    "    X = keras.layers.Dense(1024, activation='relu')(X)\n",
    "    X = keras.layers.Dense(256, activation='relu')(X)\n",
    "    X = keras.layers.Dense(10, activation='softmax')(X)\n",
    "    model = keras.models.Model(inputs=X_input, outputs=X)\n",
    "    return model"
   ]
  },
  {
   "cell_type": "code",
   "execution_count": null,
   "metadata": {},
   "outputs": [],
   "source": [
    "convnet = model(train_X.shape[1:])"
   ]
  },
  {
   "cell_type": "code",
   "execution_count": null,
   "metadata": {},
   "outputs": [],
   "source": [
    "convnet.summary()"
   ]
  },
  {
   "cell_type": "code",
   "execution_count": null,
   "metadata": {},
   "outputs": [],
   "source": [
    "keras.utils.plot_model(convnet, to_file='models/cifar10_classification.png')"
   ]
  },
  {
   "cell_type": "code",
   "execution_count": null,
   "metadata": {},
   "outputs": [],
   "source": [
    "convnet.compile(optimizer='adam', loss='categorical_crossentropy', metrics=['accuracy'])"
   ]
  },
  {
   "cell_type": "code",
   "execution_count": null,
   "metadata": {},
   "outputs": [],
   "source": [
    "convnet.fit(train_X, train_y, epochs=3)"
   ]
  },
  {
   "cell_type": "code",
   "execution_count": null,
   "metadata": {},
   "outputs": [],
   "source": [
    "convnet.evaluate(test_X, test_y)"
   ]
  },
  {
   "cell_type": "code",
   "execution_count": null,
   "metadata": {},
   "outputs": [],
   "source": [
    "keras.backend.clear_session()"
   ]
  }
 ]
}