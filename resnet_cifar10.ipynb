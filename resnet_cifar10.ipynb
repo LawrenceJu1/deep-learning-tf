{
 "metadata": {
  "language_info": {
   "codemirror_mode": {
    "name": "ipython",
    "version": 3
   },
   "file_extension": ".py",
   "mimetype": "text/x-python",
   "name": "python",
   "nbconvert_exporter": "python",
   "pygments_lexer": "ipython3",
   "version": "3.7.9-final"
  },
  "orig_nbformat": 2,
  "kernelspec": {
   "name": "python3",
   "display_name": "Python 3",
   "language": "python"
  }
 },
 "nbformat": 4,
 "nbformat_minor": 2,
 "cells": [
  {
   "source": [
    "ResNet model for cifar10"
   ],
   "cell_type": "markdown",
   "metadata": {}
  },
  {
   "cell_type": "code",
   "execution_count": null,
   "metadata": {},
   "outputs": [],
   "source": [
    "import keras\n",
    "import numpy as np\n",
    "from matplotlib import pyplot\n",
    "import tensorflow_datasets as tfds"
   ]
  },
  {
   "cell_type": "code",
   "execution_count": null,
   "metadata": {},
   "outputs": [],
   "source": [
    "#load cifar10 dataset\n",
    "train_X, train_y = tfds.as_numpy(tfds.load('cifar10', split='train', batch_size=-1, shuffle_files=True, as_supervised = True))\n",
    "test_X, test_y = tfds.as_numpy(tfds.load('cifar10', split='test', batch_size=-1, shuffle_files=True, as_supervised = True))"
   ]
  },
  {
   "cell_type": "code",
   "execution_count": null,
   "metadata": {},
   "outputs": [],
   "source": [
    "print(\"The shape of the training examples is \" + str(train_X.shape))\n",
    "print(\"The shape of the training labels is \" + str(train_y.shape))\n",
    "print(\"The shape of the test examples is \" + str(test_X.shape))\n",
    "print(\"The shape of the test labels is \" + str(test_y.shape))"
   ]
  },
  {
   "cell_type": "code",
   "execution_count": null,
   "metadata": {},
   "outputs": [],
   "source": [
    "#one hot encoding\n",
    "train_y = keras.utils.to_categorical(train_y, num_classes=10)\n",
    "test_y = keras.utils.to_categorical(test_y, num_classes=10)"
   ]
  },
  {
   "cell_type": "code",
   "execution_count": null,
   "metadata": {},
   "outputs": [],
   "source": [
    "#displaying training images\n",
    "for i in range(9):\n",
    "    pyplot.subplot(330 + 1 + i)\n",
    "    pyplot.imshow(train_X[i])\n",
    "pyplot.show()"
   ]
  },
  {
   "cell_type": "code",
   "execution_count": null,
   "metadata": {},
   "outputs": [],
   "source": [
    "#preprocess training and test sets\n",
    "train_X = train_X.astype('float32')\n",
    "test_X = test_X.astype('float32')\n",
    "train_X = train_X/255.0\n",
    "test_X = test_X/255.0"
   ]
  },
  {
   "cell_type": "code",
   "execution_count": null,
   "metadata": {},
   "outputs": [],
   "source": [
    "#defining resnet_block which will be used in the model\n",
    "def resnet_block(X, filters):\n",
    "    F1, F2, F3 = filters\n",
    "    X_input = X\n",
    "    X = keras.layers.Conv2D(F1, (1,1))(X_input)\n",
    "    X = keras.layers.BatchNormalization(axis=3)(X)\n",
    "    X = keras.layers.Activation('relu')(X)\n",
    "    X = keras.layers.Conv2D(F2, (3,3), padding='same')(X)\n",
    "    X = keras.layers.BatchNormalization(axis=3)(X)\n",
    "    X = keras.layers.Activation('relu')(X)\n",
    "    X = keras.layers.Conv2D(F3, (1,1))(X)\n",
    "    X = keras.layers.BatchNormalization(axis=3)(X)\n",
    "    X = keras.layers.Add()([X, X_input])\n",
    "    X = keras.layers.Activation('relu')(X)\n",
    "    return X"
   ]
  },
  {
   "cell_type": "code",
   "execution_count": null,
   "metadata": {},
   "outputs": [],
   "source": [
    "#creating the model\n",
    "def model(input_shape):\n",
    "    X_input = keras.Input(input_shape)\n",
    "    X = keras.layers.Conv2D(256, (3,3), padding='same')(X_input)\n",
    "    X = keras.layers.BatchNormalization(axis=3)(X)\n",
    "    X = keras.layers.Activation('relu')(X)\n",
    "    X = resnet_block(X, [64,64,256])\n",
    "    X = resnet_block(X, [64,64,256])\n",
    "    X = resnet_block(X, [128, 128, 256])\n",
    "    X = resnet_block(X, [128, 128, 256])\n",
    "    X = resnet_block(X, [256, 256, 256])\n",
    "    X = resnet_block(X, [256, 256, 256])\n",
    "    X = keras.layers.AveragePooling2D((2,2))(X)\n",
    "    X = keras.layers.Flatten()(X)\n",
    "    X = keras.layers.Dense(10, activation='softmax')(X)\n",
    "    model = keras.models.Model(inputs=X_input, outputs=X)\n",
    "    return model"
   ]
  },
  {
   "cell_type": "code",
   "execution_count": null,
   "metadata": {},
   "outputs": [],
   "source": [
    "resnet = model(train_X.shape[1:])"
   ]
  },
  {
   "cell_type": "code",
   "execution_count": null,
   "metadata": {
    "tags": []
   },
   "outputs": [],
   "source": [
    "resnet.summary()"
   ]
  },
  {
   "cell_type": "code",
   "execution_count": null,
   "metadata": {},
   "outputs": [],
   "source": [
    "keras.utils.plot_model(resnet, to_file='models/resnet_cifar10.png')"
   ]
  },
  {
   "cell_type": "code",
   "execution_count": null,
   "metadata": {},
   "outputs": [],
   "source": [
    "resnet.compile(optimizer='adam', loss='categorical_crossentropy', metrics=['accuracy'])"
   ]
  },
  {
   "cell_type": "code",
   "execution_count": null,
   "metadata": {},
   "outputs": [],
   "source": [
    "resnet.fit(train_X, train_y, epochs=4)"
   ]
  },
  {
   "cell_type": "code",
   "execution_count": null,
   "metadata": {},
   "outputs": [],
   "source": [
    "resnet.evaluate(test_X, test_y)"
   ]
  },
  {
   "cell_type": "code",
   "execution_count": null,
   "metadata": {},
   "outputs": [],
   "source": [
    "keras.backend.clear_session()"
   ]
  }
 ]
}